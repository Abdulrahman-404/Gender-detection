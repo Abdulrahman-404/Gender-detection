{
 "cells": [
  {
   "cell_type": "code",
   "execution_count": 1,
   "id": "87da14f1",
   "metadata": {},
   "outputs": [],
   "source": [
    "#import the necessary packages\n",
    "from tensorflow.keras.preprocessing.image import ImageDataGenerator  # Make agumantation for picture\n",
    "from tensorflow.keras.applications import MobileNetV2 #it,s look like VGG 16 / Pretrained model ==> 1000 Category ===>224 ,224 \n",
    "from tensorflow.keras.layers import AveragePooling2D\n",
    "from tensorflow.keras.layers import Dropout\n",
    "from tensorflow.keras.layers import Flatten\n",
    "from tensorflow.keras.layers import Dense\n",
    "from tensorflow.keras.layers import Input\n",
    "from tensorflow.keras.models import Model\n",
    "from tensorflow.keras.optimizers.legacy import Adam\n",
    "from tensorflow.keras.applications.mobilenet_v2 import preprocess_input # every input has a process \n",
    "from tensorflow.keras.preprocessing.image import img_to_array # transform image to array \n",
    "from tensorflow.keras.preprocessing.image import load_img  # load & read the image\n",
    "from tensorflow.keras.utils import to_categorical\n",
    "from sklearn.preprocessing import LabelBinarizer\n",
    "from sklearn.model_selection import train_test_split\n",
    "from sklearn.metrics import classification_report\n",
    "from imutils import paths\n",
    "from tensorflow.keras.optimizers import Adam\n",
    "import matplotlib.pyplot as plt\n",
    "import numpy as np \n",
    "import os  # Operaiting system\n",
    "\n"
   ]
  },
  {
   "cell_type": "code",
   "execution_count": 17,
   "id": "be69c71d",
   "metadata": {},
   "outputs": [],
   "source": [
    "INIT_LR = 1e-4 #0.0001  ====> Learning rate\n",
    "EPOCHS = 20  # Number of training\n",
    "BS = 32  # Batch Size ==> every time i will enter 32 picture\n",
    "DIRECTORY = r\"D:\\DL\\Module 4\\data\"\n",
    "CATEGORIES = [\"with_mask\" , \"without_mask\"]"
   ]
  },
  {
   "cell_type": "code",
   "execution_count": 18,
   "id": "4f2c2a7a",
   "metadata": {},
   "outputs": [
    {
     "name": "stdout",
     "output_type": "stream",
     "text": [
      "[INFO] I loading images... \n"
     ]
    },
    {
     "name": "stderr",
     "output_type": "stream",
     "text": [
      "C:\\Users\\Abdulrhman Saleh\\anaconda3\\Lib\\site-packages\\PIL\\Image.py:996: UserWarning: Palette images with Transparency expressed in bytes should be converted to RGBA images\n",
      "  warnings.warn(\n"
     ]
    }
   ],
   "source": [
    "print (\"[INFO] I loading images... \")\n",
    "data = []\n",
    "labels = []\n",
    "\n",
    "for category in CATEGORIES:\n",
    "    path = os.path.join(DIRECTORY,category)\n",
    "    for image in os.listdir(path): # every thing you will found in this path give it to me and told me it's an image ge\n",
    "        img_path = os.path.join(path,image)\n",
    "\n",
    "        image = load_img(img_path, target_size=(224, 224))\n",
    "        image = img_to_array(image)\n",
    "        image = preprocess_input(image)\n",
    "        \n",
    "        data.append(image)\n",
    "        labels.append(category)"
   ]
  },
  {
   "cell_type": "code",
   "execution_count": 4,
   "id": "a1938218",
   "metadata": {},
   "outputs": [],
   "source": [
    "# perform one-hot encoding on the labels\n",
    "lb = LabelBinarizer() # take all photo and make it  as a list\n",
    "labels = lb.fit_transform(labels)\n",
    "labels = to_categorical(labels)\n",
    "\n",
    "data = np.array(data, dtype=\"float32\")\n",
    "labels = np.array(labels)\n",
    "\n",
    "(trainX, testX, trainY, testY ) = train_test_split(data, labels, stratify = labels, test_size=0.20, random_state = 42)\n"
   ]
  },
  {
   "cell_type": "code",
   "execution_count": 5,
   "id": "63e8f15f",
   "metadata": {},
   "outputs": [],
   "source": [
    "#construct the training image  generatot  for data agumantation\n",
    "\n",
    "aug = ImageDataGenerator(\n",
    "rotation_range=20,   #  rotate the image  بيلف الصورة\n",
    "zoom_range=0.15,   #Make a zoom \n",
    "width_shift_range=0.2, # Move image to the left\n",
    "shear_range=0.15,\n",
    "horizontal_flip=True,\n",
    "fill_mode=\"nearest\")"
   ]
  },
  {
   "cell_type": "code",
   "execution_count": 19,
   "id": "77f11515",
   "metadata": {},
   "outputs": [
    {
     "name": "stderr",
     "output_type": "stream",
     "text": [
      "C:\\Users\\Abdulrhman Saleh\\AppData\\Local\\Temp\\ipykernel_28420\\945535152.py:2: UserWarning: `input_shape` is undefined or non-square, or `rows` is not in [96, 128, 160, 192, 224]. Weights for input shape (224, 224) will be loaded as the default.\n",
      "  baseModel = MobileNetV2(weights=\"imagenet\", include_top=False,\n"
     ]
    }
   ],
   "source": [
    "#Load the MobileNetV2 network, ensuring the head fc layer sets are let off \n",
    "baseModel = MobileNetV2(weights=\"imagenet\", include_top=False,\n",
    "    input_tensor=Input(shape=(224,224,3)))  # Number 3 refers to the color "
   ]
  },
  {
   "cell_type": "code",
   "execution_count": 20,
   "id": "6e9dfd0e",
   "metadata": {},
   "outputs": [],
   "source": [
    "#construct the head  of the model that will be placed  on top of the base model\n",
    "headModel = baseModel.output\n",
    "headModel = AveragePooling2D(pool_size=(7 , 7))(headModel)\n",
    "headModel = Flatten(name = \"flatten\")(headModel)\n",
    "headModel = Dense(128, activation=\"relu\") (headModel)\n",
    "headModel = Dropout(0.5)(headModel)  # make a drop to reduce the features\n",
    "headModel = Dense(2, activation=\"softmax\")(headModel)\n",
    "\n",
    "#place the head fc model om top of the base model(this will become the actual model we will train)\n",
    "model = Model(inputs=baseModel.input, outputs=headModel)"
   ]
  },
  {
   "cell_type": "code",
   "execution_count": 21,
   "id": "8d971118",
   "metadata": {},
   "outputs": [
    {
     "name": "stdout",
     "output_type": "stream",
     "text": [
      "[info] compiling model...\n"
     ]
    },
    {
     "name": "stderr",
     "output_type": "stream",
     "text": [
      "C:\\Users\\Abdulrhman Saleh\\anaconda3\\Lib\\site-packages\\keras\\src\\optimizers\\base_optimizer.py:34: UserWarning: Argument `decay` is no longer supported and will be ignored.\n",
      "  warnings.warn(\n"
     ]
    }
   ],
   "source": [
    "#Loop over all layers in base model and freeze them so they will not be update during the first \n",
    "#training process \n",
    "for layer in baseModel.layers:\n",
    "    layer.trainable = False\n",
    "    \n",
    "#compile our model \n",
    "print(\"[info] compiling model...\")\n",
    "opt = Adam(learning_rate=INIT_LR, decay=INIT_LR / EPOCHS)\n",
    "model.compile(loss=\"binary_crossentropy\", optimizer=opt, metrics=[\"accuracy\"])\n"
   ]
  },
  {
   "cell_type": "code",
   "execution_count": 22,
   "id": "e75094e8",
   "metadata": {},
   "outputs": [
    {
     "name": "stdout",
     "output_type": "stream",
     "text": [
      "[info] training head...\n",
      "Epoch 1/20\n"
     ]
    },
    {
     "name": "stderr",
     "output_type": "stream",
     "text": [
      "C:\\Users\\Abdulrhman Saleh\\anaconda3\\Lib\\site-packages\\keras\\src\\trainers\\data_adapters\\py_dataset_adapter.py:122: UserWarning: Your `PyDataset` class should call `super().__init__(**kwargs)` in its constructor. `**kwargs` can include `workers`, `use_multiprocessing`, `max_queue_size`. Do not pass these arguments to `fit()`, as they will be ignored.\n",
      "  self._warn_if_super_not_called()\n"
     ]
    },
    {
     "name": "stdout",
     "output_type": "stream",
     "text": [
      "\u001b[1m188/188\u001b[0m \u001b[32m━━━━━━━━━━━━━━━━━━━━\u001b[0m\u001b[37m\u001b[0m \u001b[1m275s\u001b[0m 1s/step - accuracy: 0.8201 - loss: 0.4406 - val_accuracy: 0.9762 - val_loss: 0.0862\n",
      "Epoch 2/20\n"
     ]
    },
    {
     "name": "stderr",
     "output_type": "stream",
     "text": [
      "C:\\Users\\Abdulrhman Saleh\\anaconda3\\Lib\\contextlib.py:155: UserWarning: Your input ran out of data; interrupting training. Make sure that your dataset or generator can generate at least `steps_per_epoch * epochs` batches. You may need to use the `.repeat()` function when building your dataset.\n",
      "  self.gen.throw(typ, value, traceback)\n"
     ]
    },
    {
     "name": "stdout",
     "output_type": "stream",
     "text": [
      "\u001b[1m188/188\u001b[0m \u001b[32m━━━━━━━━━━━━━━━━━━━━\u001b[0m\u001b[37m\u001b[0m \u001b[1m41s\u001b[0m 217ms/step - accuracy: 1.0000 - loss: 0.0368 - val_accuracy: 0.9762 - val_loss: 0.0863\n",
      "Epoch 3/20\n",
      "\u001b[1m188/188\u001b[0m \u001b[32m━━━━━━━━━━━━━━━━━━━━\u001b[0m\u001b[37m\u001b[0m \u001b[1m200s\u001b[0m 1s/step - accuracy: 0.9732 - loss: 0.0964 - val_accuracy: 0.9828 - val_loss: 0.0611\n",
      "Epoch 4/20\n",
      "\u001b[1m188/188\u001b[0m \u001b[32m━━━━━━━━━━━━━━━━━━━━\u001b[0m\u001b[37m\u001b[0m \u001b[1m20s\u001b[0m 106ms/step - accuracy: 1.0000 - loss: 0.0284 - val_accuracy: 0.9828 - val_loss: 0.0607\n",
      "Epoch 5/20\n",
      "\u001b[1m188/188\u001b[0m \u001b[32m━━━━━━━━━━━━━━━━━━━━\u001b[0m\u001b[37m\u001b[0m \u001b[1m148s\u001b[0m 773ms/step - accuracy: 0.9816 - loss: 0.0683 - val_accuracy: 0.9808 - val_loss: 0.0562\n",
      "Epoch 6/20\n",
      "\u001b[1m188/188\u001b[0m \u001b[32m━━━━━━━━━━━━━━━━━━━━\u001b[0m\u001b[37m\u001b[0m \u001b[1m19s\u001b[0m 98ms/step - accuracy: 1.0000 - loss: 0.0177 - val_accuracy: 0.9815 - val_loss: 0.0553\n",
      "Epoch 7/20\n",
      "\u001b[1m188/188\u001b[0m \u001b[32m━━━━━━━━━━━━━━━━━━━━\u001b[0m\u001b[37m\u001b[0m \u001b[1m149s\u001b[0m 778ms/step - accuracy: 0.9850 - loss: 0.0501 - val_accuracy: 0.9841 - val_loss: 0.0484\n",
      "Epoch 8/20\n",
      "\u001b[1m188/188\u001b[0m \u001b[32m━━━━━━━━━━━━━━━━━━━━\u001b[0m\u001b[37m\u001b[0m \u001b[1m20s\u001b[0m 106ms/step - accuracy: 1.0000 - loss: 0.0017 - val_accuracy: 0.9841 - val_loss: 0.0487\n",
      "Epoch 9/20\n",
      "\u001b[1m188/188\u001b[0m \u001b[32m━━━━━━━━━━━━━━━━━━━━\u001b[0m\u001b[37m\u001b[0m \u001b[1m150s\u001b[0m 786ms/step - accuracy: 0.9854 - loss: 0.0472 - val_accuracy: 0.9861 - val_loss: 0.0410\n",
      "Epoch 10/20\n",
      "\u001b[1m188/188\u001b[0m \u001b[32m━━━━━━━━━━━━━━━━━━━━\u001b[0m\u001b[37m\u001b[0m \u001b[1m19s\u001b[0m 100ms/step - accuracy: 1.0000 - loss: 0.0165 - val_accuracy: 0.9868 - val_loss: 0.0407\n",
      "Epoch 11/20\n",
      "\u001b[1m188/188\u001b[0m \u001b[32m━━━━━━━━━━━━━━━━━━━━\u001b[0m\u001b[37m\u001b[0m \u001b[1m147s\u001b[0m 771ms/step - accuracy: 0.9851 - loss: 0.0509 - val_accuracy: 0.9868 - val_loss: 0.0435\n",
      "Epoch 12/20\n",
      "\u001b[1m188/188\u001b[0m \u001b[32m━━━━━━━━━━━━━━━━━━━━\u001b[0m\u001b[37m\u001b[0m \u001b[1m20s\u001b[0m 103ms/step - accuracy: 0.9688 - loss: 0.0344 - val_accuracy: 0.9868 - val_loss: 0.0435\n",
      "Epoch 13/20\n",
      "\u001b[1m188/188\u001b[0m \u001b[32m━━━━━━━━━━━━━━━━━━━━\u001b[0m\u001b[37m\u001b[0m \u001b[1m156s\u001b[0m 809ms/step - accuracy: 0.9876 - loss: 0.0398 - val_accuracy: 0.9887 - val_loss: 0.0410\n",
      "Epoch 14/20\n",
      "\u001b[1m188/188\u001b[0m \u001b[32m━━━━━━━━━━━━━━━━━━━━\u001b[0m\u001b[37m\u001b[0m \u001b[1m20s\u001b[0m 106ms/step - accuracy: 0.9688 - loss: 0.0231 - val_accuracy: 0.9887 - val_loss: 0.0411\n",
      "Epoch 15/20\n",
      "\u001b[1m188/188\u001b[0m \u001b[32m━━━━━━━━━━━━━━━━━━━━\u001b[0m\u001b[37m\u001b[0m \u001b[1m150s\u001b[0m 785ms/step - accuracy: 0.9905 - loss: 0.0356 - val_accuracy: 0.9868 - val_loss: 0.0433\n",
      "Epoch 16/20\n",
      "\u001b[1m188/188\u001b[0m \u001b[32m━━━━━━━━━━━━━━━━━━━━\u001b[0m\u001b[37m\u001b[0m \u001b[1m19s\u001b[0m 99ms/step - accuracy: 1.0000 - loss: 0.0037 - val_accuracy: 0.9868 - val_loss: 0.0424\n",
      "Epoch 17/20\n",
      "\u001b[1m188/188\u001b[0m \u001b[32m━━━━━━━━━━━━━━━━━━━━\u001b[0m\u001b[37m\u001b[0m \u001b[1m149s\u001b[0m 782ms/step - accuracy: 0.9908 - loss: 0.0310 - val_accuracy: 0.9887 - val_loss: 0.0406\n",
      "Epoch 18/20\n",
      "\u001b[1m188/188\u001b[0m \u001b[32m━━━━━━━━━━━━━━━━━━━━\u001b[0m\u001b[37m\u001b[0m \u001b[1m20s\u001b[0m 106ms/step - accuracy: 1.0000 - loss: 0.0040 - val_accuracy: 0.9881 - val_loss: 0.0408\n",
      "Epoch 19/20\n",
      "\u001b[1m188/188\u001b[0m \u001b[32m━━━━━━━━━━━━━━━━━━━━\u001b[0m\u001b[37m\u001b[0m \u001b[1m150s\u001b[0m 783ms/step - accuracy: 0.9914 - loss: 0.0254 - val_accuracy: 0.9901 - val_loss: 0.0377\n",
      "Epoch 20/20\n",
      "\u001b[1m188/188\u001b[0m \u001b[32m━━━━━━━━━━━━━━━━━━━━\u001b[0m\u001b[37m\u001b[0m \u001b[1m19s\u001b[0m 99ms/step - accuracy: 0.9375 - loss: 0.1139 - val_accuracy: 0.9901 - val_loss: 0.0376\n"
     ]
    }
   ],
   "source": [
    "#train the head of the network\n",
    "print(\"[info] training head...\")\n",
    "H = model.fit(\n",
    "aug.flow(trainX, trainY, batch_size=BS),\n",
    "steps_per_epoch=len(trainX)//BS,\n",
    "validation_data=(testX,testY),\n",
    "validation_steps=len(testX)//BS,\n",
    "epochs = EPOCHS)"
   ]
  },
  {
   "cell_type": "code",
   "execution_count": 23,
   "id": "f9caa99f",
   "metadata": {},
   "outputs": [
    {
     "name": "stdout",
     "output_type": "stream",
     "text": [
      "[INFO] evaluating network...\n",
      "\u001b[1m48/48\u001b[0m \u001b[32m━━━━━━━━━━━━━━━━━━━━\u001b[0m\u001b[37m\u001b[0m \u001b[1m20s\u001b[0m 398ms/step\n"
     ]
    },
    {
     "name": "stderr",
     "output_type": "stream",
     "text": [
      "WARNING:absl:You are saving your model as an HDF5 file via `model.save()` or `keras.saving.save_model(model)`. This file format is considered legacy. We recommend using instead the native Keras format, e.g. `model.save('my_model.keras')` or `keras.saving.save_model(model, 'my_model.keras')`. \n"
     ]
    },
    {
     "name": "stdout",
     "output_type": "stream",
     "text": [
      "              precision    recall  f1-score   support\n",
      "\n",
      "   with_mask       0.99      0.99      0.99       745\n",
      "without_mask       0.99      0.99      0.99       766\n",
      "\n",
      "    accuracy                           0.99      1511\n",
      "   macro avg       0.99      0.99      0.99      1511\n",
      "weighted avg       0.99      0.99      0.99      1511\n",
      "\n",
      "[INFO] saving mask detector model...\n"
     ]
    }
   ],
   "source": [
    "#make predections on testing set\n",
    "print(\"[INFO] evaluating network...\")\n",
    "predIdxs = model.predict(testX, batch_size = BS)\n",
    "\n",
    "#for each image in the testing set we need to find the idnex of the label with coressponding largest\n",
    "#predicted probability\n",
    "predIdxs = np.argmax(predIdxs, axis = 1)\n",
    "\n",
    "#show a nicely formatted calssificatio report\n",
    "print(classification_report(testY.argmax(axis=1), predIdxs, target_names=lb.classes_))\n",
    "\n",
    "print(\"[INFO] saving mask detector model...\")\n",
    "model.save(\"mask_detector.h5\")\n",
    "\n",
    "\n"
   ]
  },
  {
   "cell_type": "code",
   "execution_count": 24,
   "id": "03437265",
   "metadata": {},
   "outputs": [
    {
     "data": {
      "image/png": "[encoded data removed]",
      "text/plain": [
       "<Figure size 640x480 with 1 Axes>"
      ]
     },
     "metadata": {},
     "output_type": "display_data"
    }
   ],
   "source": [
    "#plot the training loss and  accuracy \n",
    "\n",
    "N = EPOCHS\n",
    "plt.style.use(\"ggplot\")\n",
    "plt.figure()\n",
    "plt.plot(np.arange(0, N), H.history[\"loss\"], label=\"train_loss\")\n",
    "plt.plot(np.arange(0, N), H.history[\"val_loss\"], label=\"val_loss\")\n",
    "plt.plot(np.arange(0, N), H.history[\"accuracy\"], label=\"train_acc\")\n",
    "plt.plot(np.arange(0, N), H.history[\"val_accuracy\"], label=\"val_acc\")\n",
    "plt.title(\"Training Loss and Accuracy\")\n",
    "plt.xlabel(\"Epoch #\")\n",
    "plt.ylabel(\"Loss/Accuracy\")\n",
    "plt.legend(loc=\"lower left\")\n",
    "plt.savefig(\"plot.png\")"
   ]
  },
  {
   "cell_type": "code",
   "execution_count": null,
   "id": "bbd2bdd0",
   "metadata": {},
   "outputs": [],
   "source": []
  }
 ],
 "metadata": {
  "kernelspec": {
   "display_name": "Python 3 (ipykernel)",
   "language": "python",
   "name": "python3"
  },
  "language_info": {
   "codemirror_mode": {
    "name": "ipython",
    "version": 3
   },
   "file_extension": ".py",
   "mimetype": "text/x-python",
   "name": "python",
   "nbconvert_exporter": "python",
   "pygments_lexer": "ipython3",
   "version": "3.11.4"
  }
 },
 "nbformat": 4,
 "nbformat_minor": 5
}
